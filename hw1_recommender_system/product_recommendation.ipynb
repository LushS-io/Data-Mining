{
 "cells": [
  {
   "cell_type": "code",
   "execution_count": 1,
   "metadata": {
    "collapsed": true
   },
   "outputs": [],
   "source": [
    "#Name : Francis Troy Kirinhakone\n",
    "#Class : CS315 - Data Mining\n",
    "#Date : 1/17/19\n",
    "\n",
    "#Description: Create a product recommendation program for customers.\n"
   ]
  },
  {
   "cell_type": "code",
   "execution_count": 2,
   "metadata": {},
   "outputs": [],
   "source": [
    "#support s = 100\n",
    "# the size of support is 100, product pairs must occur at least 100 times in order to be considered frequent\n",
    "#find itemsets of size 2 and 3\n",
    "\n",
    "#each line is a product\n",
    "#each string of 8 char is a session for the respecrtive product\n",
    "\n",
    "#a frequent itemset is when s = 100\n",
    "# items are sessions on each line\n",
    "# baskets are each line...are the products\n",
    "# the idea is how many times a product is viewd to be seen a frequent or infrequent"
   ]
  },
  {
   "cell_type": "code",
   "execution_count": 3,
   "metadata": {},
   "outputs": [],
   "source": [
    "from collections import defaultdict"
   ]
  },
  {
   "cell_type": "code",
   "execution_count": 4,
   "metadata": {},
   "outputs": [],
   "source": [
    "SUPPORT_THRESHOLD = 100\n",
    "\n",
    "item_counts = defaultdict(int)\n",
    "pair_counts = defaultdict(int) \n",
    "triple_counts = defaultdict(int) "
   ]
  },
  {
   "cell_type": "code",
   "execution_count": 5,
   "metadata": {},
   "outputs": [],
   "source": [
    "with open('browsingdata.txt') as file:\n",
    "    for line in file:\n",
    "        lines = file.readlines()\n",
    "    file.close()"
   ]
  },
  {
   "cell_type": "code",
   "execution_count": 6,
   "metadata": {},
   "outputs": [],
   "source": [
    "#find number of unique items\n",
    "for line in lines:\n",
    "    for item in line.split():\n",
    "        item_counts[item] += 1"
   ]
  },
  {
   "cell_type": "code",
   "execution_count": 31,
   "metadata": {},
   "outputs": [
    {
     "name": "stdout",
     "output_type": "stream",
     "text": [
      "There are 12592 unique items, 642 of which are frequent\n"
     ]
    }
   ],
   "source": [
    "# first pass to find frequent items\n",
    "frequent_items = set()\n",
    "\n",
    "for key in item_counts:\n",
    "    if item_counts[key] > SUPPORT_THRESHOLD:\n",
    "        frequent_items.add(key)\n",
    "        \n",
    "print('There are {0} unique items, {1} of which are frequent'.format(len(item_counts), len(frequent_items)))"
   ]
  }
 ],
 "metadata": {
  "kernelspec": {
   "display_name": "Python 2",
   "language": "python",
   "name": "python2"
  },
  "language_info": {
   "codemirror_mode": {
    "name": "ipython",
    "version": 2
   },
   "file_extension": ".py",
   "mimetype": "text/x-python",
   "name": "python",
   "nbconvert_exporter": "python",
   "pygments_lexer": "ipython2",
   "version": "2.7.6"
  }
 },
 "nbformat": 4,
 "nbformat_minor": 0
}
