{
 "cells": [
  {
   "cell_type": "code",
   "execution_count": null,
   "metadata": {
    "collapsed": true
   },
   "outputs": [],
   "source": [
    "# Name : Francis Troy Kirinhakone\n",
    "# Class : CS315 - Data Mining\n",
    "# Date : 1/17/19\n",
    "\n",
    "# Description: Create a product recommendation program for customers.\n",
    "\n",
    "# support s = 100\n",
    "# the size of support is 100, product pairs must occur at least 100 times in order to be considered frequent\n",
    "# find itemsets of size 2 and 3\n",
    "\n",
    "# each line is a product\n",
    "# each string of 8 char is a session for the respective product\n",
    "\n",
    "\n",
    "# a frequent itemset is when s = 100\n",
    "# items are sessions on each line\n",
    "# baskets are each line...are the products\n",
    "# the idea is how many times a product is viewd to be seen a frequent or infrequent\n"
   ]
  },
  {
   "cell_type": "code",
   "execution_count": 2,
   "metadata": {},
   "outputs": [],
   "source": [
    "# imports\n",
    "from collections import defaultdict\n",
    "import operator\n",
    "\n",
    "\n",
    "# helper functions\n",
    "def normalize_group(*args):\n",
    "    return str(sorted(args))\n",
    "\n",
    "\n",
    "def generate_pairs(*args):\n",
    "    pairs = []\n",
    "    for idx_1 in range(len(args) - 1):\n",
    "        for idx_2 in range(idx_1 + 1, len(args)):\n",
    "            pairs.append(normalize_group(args[idx_1], args[idx_2]))\n",
    "    return pairs\n"
   ]
  },
  {
   "cell_type": "code",
   "execution_count": null,
   "metadata": {},
   "outputs": [],
   "source": [
    "# initialize variables\n",
    "SUPPORT_THRESHOLD = 100-1 # support threshold -1 since using the > operator instead of >=\n",
    "\n",
    "item_counts = defaultdict(int)\n",
    "pair_counts = defaultdict(int) \n",
    "triple_counts = defaultdict(int) \n"
   ]
  },
  {
   "cell_type": "code",
   "execution_count": 5,
   "metadata": {},
   "outputs": [],
   "source": [
    "# read file \n",
    "with open('browsingdata.txt') as file:\n",
    "    lines = file.readlines()\n",
    "    file.close()\n"
   ]
  },
  {
   "cell_type": "code",
   "execution_count": 6,
   "metadata": {},
   "outputs": [
    {
     "name": "stdout",
     "output_type": "stream",
     "text": [
      "ELE17451+ 37\nGRO99222+ 19\nELE26917+ 10\nSNA80192+ 8\nGRO73461+ 11\nDAI22896+ 10\nSNA99873+ 9\nGRO56989+ 11\nFRO78087+ 13\nELE59935+ 8\nDAI35347+ 11\nFRO31317+ 8\nDAI62779+ 9\nThere are 218 unique items, 13 of which are frequent\n"
     ]
    }
   ],
   "source": [
    "# find number of unique items\n",
    "for line in lines:\n",
    "    for item in line.split():\n",
    "        item_counts[item] += 1\n",
    "        \n",
    "for item in item_counts:\n",
    "    if item_counts[item] > SUPPORT_THRESHOLD:\n",
    "            print(item + \"+ {}\".format(item_counts[item]))\n",
    "    \n",
    "# first pass to find frequent items\n",
    "frequent_items = set()\n",
    "\n",
    "for key in item_counts:\n",
    "    if item_counts[key] > SUPPORT_THRESHOLD:\n",
    "        frequent_items.add(key)\n",
    "        \n",
    "print('There are {0} unique items, {1} of which are frequent'.format(len(item_counts), len(frequent_items)))\n"
   ]
  },
  {
   "cell_type": "code",
   "execution_count": 7,
   "metadata": {},
   "outputs": [
    {
     "name": "stdout",
     "output_type": "stream",
     "text": [
      "Out of 13 candidate pairs, there are 13 frequent pairs above the support threshold\n"
     ]
    }
   ],
   "source": [
    "# find candidate pairs\n",
    "\n",
    "for line in lines:\n",
    "    items = line.split()\n",
    "    for index_1 in range(len(items)-1):\n",
    "            if items[index_1] not in frequent_items:\n",
    "                continue\n",
    "            for index_2 in range(index_1+1, len(items)):\n",
    "                if items[index_2] not in frequent_items:\n",
    "                    continue\n",
    "                pair = normalize_group(items[index_1], items[index_2])\n",
    "                pair_counts[pair] += 1\n",
    "                \n",
    "# find frequent pairs\n",
    "frequent_pairs = set()\n",
    "for key in pair_counts:\n",
    "    if pair_counts[key] > SUPPORT_THRESHOLD:\n",
    "        frequent_pairs.add(key)\n",
    "        \n",
    "pair_counts = {key: val for key, val in pair_counts.items() if val > SUPPORT_THRESHOLD}\n",
    "\n",
    "        \n",
    "print(\"Out of {0} candidate pairs, there are {1} frequent pairs above the support threshold\"\n",
    "      .format(len(pair_counts), len(frequent_pairs)))\n"
   ]
  },
  {
   "cell_type": "code",
   "execution_count": 8,
   "metadata": {},
   "outputs": [
    {
     "name": "stdout",
     "output_type": "stream",
     "text": [
      "There are 2 candidate triples, 2 of which are frequent\n"
     ]
    }
   ],
   "source": [
    "# find triples\n",
    "\n",
    "for line in lines:\n",
    "    items = line.split()\n",
    "    for index_1 in range(len(items)-2):\n",
    "        if items[index_1] not in frequent_items:\n",
    "            continue\n",
    "        for index_2 in range(index_1 + 1, len(items)-1):\n",
    "            first_pair = normalize_group(items[index_1], items[index_2])\n",
    "            if items[index_2] not in frequent_items or first_pair not in frequent_pairs:\n",
    "                continue\n",
    "            for index_3 in range(index_2 + 1, len(items)):\n",
    "                triple = normalize_group(items[index_1], items[index_2], items[index_3])\n",
    "                if items[index_3] not in frequent_items:\n",
    "                    continue\n",
    "                \n",
    "                pairs = generate_pairs(items[index_1], items[index_2], items[index_3])\n",
    "                if any(pair not in frequent_pairs for pair in pairs):\n",
    "                    continue\n",
    "                triple = normalize_group(items[index_1], items[index_2], items[index_3])\n",
    "                triple_counts[triple] += 1\n",
    "            \n",
    "num_of_candidate_triples = len(triple_counts)\n",
    "triple_counts = {key: val for key, val in triple_counts.items() if val > SUPPORT_THRESHOLD}\n",
    "print('There are {0} candidate triples, {1} of which are frequent'.format(num_of_candidate_triples, len(triple_counts)))\n"
   ]
  },
  {
   "cell_type": "code",
   "execution_count": 9,
   "metadata": {},
   "outputs": [
    {
     "name": "stdout",
     "output_type": "stream",
     "text": [
      "--------------\n['ELE17451', 'ELE26917']: 8\n['ELE17451', 'SNA80192']: 8\n['DAI22896', 'GRO73461']: 8\n['ELE17451', 'ELE59935']: 8\n['ELE17451', 'FRO31317']: 8\n['DAI22896', 'ELE17451']: 9\n['ELE17451', 'GRO56989']: 9\n['ELE17451', 'FRO78087']: 9\n['DAI62779', 'ELE17451']: 9\n['ELE26917', 'GRO99222']: 10\n['DAI35347', 'ELE17451']: 10\n['ELE17451', 'GRO73461']: 11\n['ELE17451', 'GRO99222']: 15\n['ELE17451', 'ELE26917', 'GRO99222']: 8\n['DAI22896', 'ELE17451', 'GRO73461']: 8\n"
     ]
    }
   ],
   "source": [
    "# print results\n",
    "print('--------------')\n",
    "sorted_pairs = sorted(pair_counts.items(), key=operator.itemgetter(1))\n",
    "sorted_triples = sorted(triple_counts.items(), key=operator.itemgetter(1))\n",
    "\n",
    "for entry in sorted_pairs:\n",
    "    print('{0}: {1}'.format(entry[0], entry[1]))\n",
    "\n",
    "for entry in sorted_triples:\n",
    "    print('{0}: {1}'.format(entry[0], entry[1]))\n"
   ]
  },
  {
   "cell_type": "code",
   "execution_count": null,
   "metadata": {},
   "outputs": [],
   "source": []
  }
 ],
 "metadata": {
  "kernelspec": {
   "display_name": "Python 2",
   "language": "python",
   "name": "python2"
  },
  "language_info": {
   "codemirror_mode": {
    "name": "ipython",
    "version": 2
   },
   "file_extension": ".py",
   "mimetype": "text/x-python",
   "name": "python",
   "nbconvert_exporter": "python",
   "pygments_lexer": "ipython2",
   "version": "2.7.6"
  }
 },
 "nbformat": 4,
 "nbformat_minor": 0
}
